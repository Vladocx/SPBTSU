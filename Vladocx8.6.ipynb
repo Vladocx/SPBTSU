{
  "nbformat": 4,
  "nbformat_minor": 0,
  "metadata": {
    "colab": {
      "provenance": [],
      "authorship_tag": "ABX9TyOnbY+MxZ5Gmqrkq377wRO/",
      "include_colab_link": true
    },
    "kernelspec": {
      "name": "python3",
      "display_name": "Python 3"
    },
    "language_info": {
      "name": "python"
    }
  },
  "cells": [
    {
      "cell_type": "markdown",
      "metadata": {
        "id": "view-in-github",
        "colab_type": "text"
      },
      "source": [
        "<a href=\"https://colab.research.google.com/github/Vladocx/SPBTSU/blob/main/Vladocx8.6.ipynb\" target=\"_parent\"><img src=\"https://colab.research.google.com/assets/colab-badge.svg\" alt=\"Open In Colab\"/></a>"
      ]
    },
    {
      "cell_type": "code",
      "source": [
        "import pandas as pd\n",
        "\n",
        "def countries_in_continent(name_csv, cont):\n",
        "    df1 = pd.read_csv(name_csv)\n",
        "    the_continent_df = df1[ df1['continent'].isin([cont])]\n",
        "    non_null_df = the_continent_df.fillna(the_continent_df.min())\n",
        "    non_null_df.to_csv('CountryOutput.csv')\n",
        "    print(non_null_df.isnull().sum())\n",
        "\n",
        "countries_in_continent('CountryTable.csv', 'Asia')"
      ],
      "metadata": {
        "colab": {
          "base_uri": "https://localhost:8080/"
        },
        "id": "CM7OOfbQ7M1K",
        "outputId": "01f352b3-5880-4dd6-a7c7-e887fe64a67e",
        "collapsed": true
      },
      "execution_count": 21,
      "outputs": [
        {
          "output_type": "stream",
          "name": "stdout",
          "text": [
            "code                 0\n",
            "name                 0\n",
            "continent            0\n",
            "region               0\n",
            "surface_area         0\n",
            "independence_year    0\n",
            "population           0\n",
            "life_expectancy      0\n",
            "gnp                  0\n",
            "gnp_old              0\n",
            "local_name           0\n",
            "government_form      0\n",
            "head_of_state        0\n",
            "capital              0\n",
            "code2                0\n",
            "dtype: int64\n"
          ]
        }
      ]
    }
  ]
}