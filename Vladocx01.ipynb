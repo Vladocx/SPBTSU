{
  "nbformat": 4,
  "nbformat_minor": 0,
  "metadata": {
    "colab": {
      "provenance": [],
      "authorship_tag": "ABX9TyOnYVNCTTfxWTiA/jUhITB+",
      "include_colab_link": true
    },
    "kernelspec": {
      "name": "python3",
      "display_name": "Python 3"
    },
    "language_info": {
      "name": "python"
    }
  },
  "cells": [
    {
      "cell_type": "markdown",
      "metadata": {
        "id": "view-in-github",
        "colab_type": "text"
      },
      "source": [
        "<a href=\"https://colab.research.google.com/github/Vladocx/SPBTSU/blob/main/Vladocx01.ipynb\" target=\"_parent\"><img src=\"https://colab.research.google.com/assets/colab-badge.svg\" alt=\"Open In Colab\"/></a>"
      ]
    },
    {
      "cell_type": "code",
      "source": [
        " #Добрый день!\n",
        "\n",
        "def check_password(password):\n",
        "    global sp\n",
        "    sp = password.split('#')\n",
        "    global lst\n",
        "    lst = list(map(int,sp))\n",
        "\n",
        "\n",
        "# Cделал по рекомендациям\n",
        "\n",
        "\n",
        "    if check_1() and check_2() and check_3():\n",
        "      print(f\"Пароль {password} подходит под условия\")\n",
        "    else:\n",
        "      print(f\"Пароль {password} не подходит под условия\")\n",
        "\n",
        "\n",
        "def check_1():\n",
        "    if len(sp[0]) == 2:\n",
        "        if lst[0] > 1:\n",
        "            for i in range(2, lst[0]):\n",
        "                if lst[0] % i == 0:\n",
        "                    return False\n",
        "            return True\n",
        "        return False\n",
        "\n",
        "\n",
        "def check_2():\n",
        "    if len(sp[1]) == 3:\n",
        "        num2 = sp[1]\n",
        "        if num2 == num2[::-1]:\n",
        "            return True\n",
        "        return False\n",
        "\n",
        "\n",
        "def check_3():\n",
        "    if len(sp[2]) == 1:\n",
        "        if lst[2] % 2 == 0:\n",
        "            return True\n",
        "        return False"
      ],
      "metadata": {
        "colab": {
          "base_uri": "https://localhost:8080/",
          "height": 109
        },
        "id": "CM7OOfbQ7M1K",
        "outputId": "5be3f13f-030a-4b34-b05a-2ac59c88d7f2"
      },
      "execution_count": 52,
      "outputs": [
        {
          "output_type": "error",
          "ename": "SyntaxError",
          "evalue": "invalid syntax (<ipython-input-52-c4bc6b253c37>, line 4)",
          "traceback": [
            "\u001b[0;36m  File \u001b[0;32m\"<ipython-input-52-c4bc6b253c37>\"\u001b[0;36m, line \u001b[0;32m4\u001b[0m\n\u001b[0;31m    data = line.strip() for line in data\u001b[0m\n\u001b[0m                        ^\u001b[0m\n\u001b[0;31mSyntaxError\u001b[0m\u001b[0;31m:\u001b[0m invalid syntax\n"
          ]
        }
      ]
    }
  ]
}